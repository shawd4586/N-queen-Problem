{
 "cells": [
  {
   "cell_type": "markdown",
   "metadata": {},
   "source": [
    "# Backtracking"
   ]
  },
  {
   "cell_type": "code",
   "execution_count": 1,
   "metadata": {},
   "outputs": [
    {
     "name": "stdout",
     "output_type": "stream",
     "text": [
      "Enter the number of queens\n",
      "5\n",
      "[1, 0, 0, 0, 0]\n",
      "[0, 0, 1, 0, 0]\n",
      "[0, 0, 0, 0, 1]\n",
      "[0, 1, 0, 0, 0]\n",
      "[0, 0, 0, 1, 0]\n",
      "0.0019941329956054688\n"
     ]
    }
   ],
   "source": [
    "import time \n",
    "\n",
    "#Number of queens \n",
    "print (\"Enter the number of queens\")\n",
    "N = int(input())\n",
    "start = time.time()\n",
    "#chessboard #NxN matrix with all elements 0 \n",
    "board = [[0]*N for _ in range(N)]\n",
    "\n",
    "def is_attack(i, j):\n",
    "    #checking if there is a queen in row or column \n",
    "    for k in range(0,N): \n",
    "        if board[i][k]==1 or board[k][j]==1: \n",
    "            return True \n",
    "    #checking diagonals\n",
    "    for k in range(0,N):\n",
    "        for l in range(0,N):\n",
    "            if (k+l==i+j) or (k-l==i-j):\n",
    "                if board[k][l]==1:\n",
    "                    return True \n",
    "    return False \n",
    "\n",
    "def N_queen(n):\n",
    "    #if n is 0, solution found \n",
    "    if n==0:\n",
    "        return True \n",
    "    for i in range(0,N): \n",
    "        for j in range(0,N):\n",
    "            if (not(is_attack(i,j))) and (board[i][j]!=1):\n",
    "                board[i][j] = 1 \n",
    "                #recursion #wether we can put the next queen with this arrangment or not \n",
    "                if N_queen(n-1)==True: \n",
    "                    return True \n",
    "                board[i][j] = 0 \n",
    "    return False \n",
    "N_queen(N) \n",
    "for i in board: \n",
    "    print (i)\n",
    "    \n",
    "end = time.time() \n",
    "print( end - start)"
   ]
  },
  {
   "cell_type": "markdown",
   "metadata": {},
   "source": [
    "# Best-First"
   ]
  },
  {
   "cell_type": "code",
   "execution_count": 2,
   "metadata": {},
   "outputs": [
    {
     "name": "stdout",
     "output_type": "stream",
     "text": [
      "Enter the number of queens\n",
      "5\n",
      "[0, 1, 0, 0, 0]\n",
      "[0, 0, 0, 1, 0]\n",
      "[1, 0, 0, 0, 0]\n",
      "[0, 0, 1, 0, 0]\n",
      "[0, 0, 0, 0, 1]\n",
      "0.0019974708557128906\n"
     ]
    }
   ],
   "source": [
    "import random \n",
    "#Number of queens \n",
    "print (\"Enter the number of queens\") \n",
    "N = int(input()) \n",
    "start = time.time()\n",
    "#chessboard #NxN matrix with all elements 0 \n",
    "board = [[0]*N for _ in range(N)] \n",
    "def is_attack(i, j): \n",
    "    #checking if there is a queen in row or column \n",
    "    for k in range(0,N): \n",
    "        if board[i][k]==1 or board[k][j]==1: \n",
    "            return True \n",
    "    #checking diagonals\n",
    "    for k in range(0,N): \n",
    "        for l in range(0,N): \n",
    "            if (k+l==i+j) or (k-l==i-j): \n",
    "                if board[k][l]==1: \n",
    "                    return True \n",
    "    return False \n",
    "rand=random.randint(0,N-1) \n",
    "board[0][rand]=1 \n",
    "\n",
    "per=rand \n",
    "\n",
    "for i in range(1,N): \n",
    "    if(N-per<=N/2): \n",
    "        j = N-1;\n",
    "    else:\n",
    "        j=0; \n",
    "    counter = 0 \n",
    "    while(is_attack(i,j)): \n",
    "        j = (j+1)%N \n",
    "        if(counter == N-1): \n",
    "            print(\"No answer\") \n",
    "            counter =-1 \n",
    "            break; \n",
    "    if(counter>=0): \n",
    "        board[i][j]=1 \n",
    "    per=j \n",
    "for i in board: \n",
    "    print(i) \n",
    "end = time.time() \n",
    "print( end - start)"
   ]
  },
  {
   "cell_type": "code",
   "execution_count": null,
   "metadata": {},
   "outputs": [],
   "source": []
  },
  {
   "cell_type": "code",
   "execution_count": null,
   "metadata": {},
   "outputs": [],
   "source": []
  }
 ],
 "metadata": {
  "kernelspec": {
   "display_name": "Python 3",
   "language": "python",
   "name": "python3"
  },
  "language_info": {
   "codemirror_mode": {
    "name": "ipython",
    "version": 3
   },
   "file_extension": ".py",
   "mimetype": "text/x-python",
   "name": "python",
   "nbconvert_exporter": "python",
   "pygments_lexer": "ipython3",
   "version": "3.7.6"
  }
 },
 "nbformat": 4,
 "nbformat_minor": 4
}
